{
 "cells": [
  {
   "cell_type": "markdown",
   "metadata": {},
   "source": [
    "# <div style=\"background:#FFFFAA\">\n",
    "<img src=\"logo.jpg\", width=150, ALIGN=\"left\", border=20>\n",
    "<center>\n",
    "<h1>Sample Starting Kit </h1>\n",
    " <br>This code was tested with <br>\n",
    "Python 3.6.6 |Anaconda custom (64-bit)| (default, Jun 28 2018, 11:07:29) (https://anaconda.org/)<br>\n",
    "<i> Adapted for Chalab by Isabelle Guyon from original code of Balázs Kégl</i> <br>\n",
    "<a href=\"http://www.datascience-paris-saclay.fr\">Paris Saclay Center for Data Science (CDS)</a>\n",
    "</center>\n",
    "<br>\n",
    "<br>\n",
    "<br>\n",
    "<p>\n",
    "ALL INFORMATION, SOFTWARE, DOCUMENTATION, AND DATA ARE PROVIDED \"AS-IS\". The CDS, CHALEARN, AND/OR OTHER ORGANIZERS OR CODE AUTHORS DISCLAIM ANY EXPRESSED OR IMPLIED WARRANTIES, INCLUDING, BUT NOT LIMITED TO, THE IMPLIED WARRANTIES OF MERCHANTABILITY AND FITNESS FOR ANY PARTICULAR PURPOSE, AND THE WARRANTY OF NON-INFRIGEMENT OF ANY THIRD PARTY'S INTELLECTUAL PROPERTY RIGHTS. IN NO EVENT SHALL AUTHORS AND ORGANIZERS BE LIABLE FOR ANY SPECIAL, \n",
    "INDIRECT OR CONSEQUENTIAL DAMAGES OR ANY DAMAGES WHATSOEVER ARISING OUT OF OR IN CONNECTION WITH THE USE OR PERFORMANCE OF SOFTWARE, DOCUMENTS, MATERIALS, PUBLICATIONS, OR INFORMATION MADE AVAILABLE FOR THE CHALLENGE. \n",
    "</div>"
   ]
  },
  {
   "cell_type": "markdown",
   "metadata": {},
   "source": [
    "<div style=\"background:#FFFFAA\">\n",
    "    <h2>Introduction </h2>\n",
    "    <p>\n",
    "In an era where computer graphics techniques for image generation are reaching stunning levels of quality, it becomes more and more challenging to detect fake from true, authentic images. However, this raises a lot of legal issues, mainly dealing with forgery. This project focuses mainly on the efficiency of Generative Adversarial Network (GAN) algorithms for producing art forgery and we will try to beat the state-of-the-art models that detect it. In fact, the Fine Arts Expert Institute in Geneva estimates that as much as 50 percent of artworks currently in circulation may be forgeries. Although the standard approach for image classification which is deep neural networks and especially Convolutional Neural Networks (CNNs) works very well nowadays, GAN performs strongly on generating fake images. By focusing on the art forgery aspect, we will try to bring a more specific perspective on the issue of image forgery.\n",
    "\n",
    "</div>"
   ]
  },
  {
   "cell_type": "markdown",
   "metadata": {},
   "source": [
    "### Requirements\n",
    "The next cell will install all the required dependencies on your computer. You should consider replacing pip with pip3 if pip is related to python2.7 on your computer, or comment it if you already have the dependencies/are running in the docker of the challenge (runnable with the name mm886/codalab-legacy:latest if you know how to run a docker)."
   ]
  },
  {
   "cell_type": "code",
   "execution_count": 1,
   "metadata": {},
   "outputs": [],
   "source": [
    "#!pip install --user -r requirements.txt"
   ]
  },
  {
   "cell_type": "markdown",
   "metadata": {},
   "source": [
    "### Load the dataset\n",
    "Because our dataset is very large (~16Go), so we have used numpy.memmap to load the data. We suggest strongly that you use the same method to load the data and choose a small batch_size (100~500) when you train your classifieur. If not, your computer will not respond."
   ]
  },
  {
   "cell_type": "markdown",
   "metadata": {},
   "source": [
    "#### Constants and libraries"
   ]
  },
  {
   "cell_type": "code",
   "execution_count": 2,
   "metadata": {
    "scrolled": false
   },
   "outputs": [],
   "source": [
    "%reload_ext autoreload\n",
    "%matplotlib inline\n",
    "%reload_ext autoreload\n",
    "%autoreload 2\n",
    "model_dir = 'sample_code_submission/'                       \n",
    "result_dir = 'sample_result_submission/' \n",
    "problem_dir = 'ingestion_program/'  \n",
    "score_dir = 'scoring_program/'\n",
    "from sys import path; path.append(model_dir); path.append(problem_dir); path.append(score_dir); \n",
    "import seaborn as sns; sns.set()\n",
    "import warnings\n",
    "import numpy as np\n",
    "import pandas as pd\n",
    "import tqdm\n",
    "from matplotlib import pyplot as plt\n",
    "import os\n",
    "warnings.simplefilter(action='ignore', category=FutureWarning)"
   ]
  },
  {
   "cell_type": "markdown",
   "metadata": {},
   "source": [
    "<div style=\"background:#FFFFAA\">\n",
    "    <h1> Step 1: Exploratory data analysis </h1>\n",
    "<p>\n",
    "We provide sample_data with the starting kit, but to prepare your submission, you must fetch the public_data from the challenge website and point to it.\n",
    "    <br>\n",
    "</div>"
   ]
  },
  {
   "cell_type": "code",
   "execution_count": 3,
   "metadata": {
    "scrolled": true
   },
   "outputs": [
    {
     "name": "stderr",
     "output_type": "stream",
     "text": [
      "'ls' n’est pas reconnu en tant que commande interne\n",
      "ou externe, un programme exécutable ou un fichier de commandes.\n"
     ]
    }
   ],
   "source": [
    "data_dir = 'public_data'\n",
    "data_name = 'perso'\n",
    "!ls $data_dir"
   ]
  },
  {
   "cell_type": "code",
   "execution_count": 4,
   "metadata": {
    "scrolled": true
   },
   "outputs": [
    {
     "name": "stdout",
     "output_type": "stream",
     "text": [
      "usage = 'Sample dataset perso data'\n",
      "\n",
      "name = 'perso'\n",
      "\n",
      "task = 'bi-class.classification'\n",
      "\n",
      "target_type = 'Numerical'\n",
      "\n",
      "feat_type = 'Numerical'\n",
      "\n",
      "metric = 'bac_metric'\n",
      "\n",
      "time_budget =  1200\n",
      "\n",
      "feat_num =     200\n",
      "\n",
      "target_num =     2\n",
      "\n",
      "label_num =     2\n",
      "\n",
      "train_num =   50000\n",
      "\n",
      "valid_num =    9408\n",
      "\n",
      "test_num =    18817\n",
      "\n",
      "has_categorical =     0\n",
      "\n",
      "has_missing =     0\n",
      "\n",
      "is_sparse =     0\n",
      "\n"
     ]
    }
   ],
   "source": [
    "f = open(\"public_data/perso_public.info\",\"r\")\n",
    "for line in f : \n",
    "    print(line)"
   ]
  },
  {
   "cell_type": "markdown",
   "metadata": {},
   "source": [
    "### \n",
    "The code below is to load the three datasets train, valid and test in the memory."
   ]
  },
  {
   "cell_type": "markdown",
   "metadata": {},
   "source": [
    "<div style=\"color:#FF7000;\">\n",
    "        <p>The following cell import the preprocessor</p>\n",
    "</div>"
   ]
  },
  {
   "cell_type": "code",
   "execution_count": 5,
   "metadata": {},
   "outputs": [],
   "source": [
    "from preprocessor import Preprocessor\n",
    "prepTrain = Preprocessor()\n",
    "prepTest = Preprocessor()\n",
    "prepValid = Preprocessor()"
   ]
  },
  {
   "cell_type": "code",
   "execution_count": 6,
   "metadata": {},
   "outputs": [],
   "source": [
    "def count_lines(file) : \n",
    "    count = -1\n",
    "    for count,line in enumerate(open(file,'r')):\n",
    "        pass\n",
    "        count += 1\n",
    "    return count\n",
    "train_lines = count_lines('public_data/perso_train.solution')\n",
    "valid_lines = count_lines('public_data/perso_valid.data')\n",
    "test_lines = count_lines('public_data/perso_test.data')"
   ]
  },
  {
   "cell_type": "markdown",
   "metadata": {},
   "source": [
    "<div style=\"color:#FF7000;\">\n",
    "        <p>The next 6 cells load the datasets and preprocess them</p>\n",
    "</div>"
   ]
  },
  {
   "cell_type": "code",
   "execution_count": 7,
   "metadata": {
    "scrolled": false
   },
   "outputs": [],
   "source": [
    "train_data= np.memmap( 'public_data/train_data', dtype='float64', mode='w+',shape=(train_lines,12288))\n",
    "reader = pd.read_table('public_data/perso_train.data', sep=' ', chunksize=1000,dtype='uint8',header=None)\n",
    "i=0\n",
    "for chunk in reader:\n",
    "    chunk = prepTrain.standardizing(chunk)\n",
    "    prepTrain.partial_fit(chunk)\n",
    "    if(train_lines-i<1000) :\n",
    "        train_data[i:] = chunk\n",
    "        break\n",
    "    else :\n",
    "        train_data[i:i+1000]=chunk\n",
    "        i+=1000\n",
    "X_train = np.memmap( 'public_data/train_data', dtype='float64', mode='r',shape=(train_lines,12288))\n",
    "train_solution= np.memmap( 'public_data/train_solution', dtype='uint8', mode='w+',shape=(train_lines,1))\n",
    "reader = pd.read_table('public_data/perso_train.solution', chunksize=1000,dtype='uint8',header=None)\n",
    "i=0\n",
    "for chunk in reader:\n",
    "    if(train_lines-i<1000) :\n",
    "        train_solution[i:] = chunk\n",
    "        break\n",
    "    else : \n",
    "        train_solution[i:i+1000]=chunk\n",
    "        i+=1000\n",
    "y_train= np.memmap('public_data/train_solution', dtype='uint8', mode='r', shape=(train_lines,1))"
   ]
  },
  {
   "cell_type": "code",
   "execution_count": 8,
   "metadata": {
    "scrolled": true
   },
   "outputs": [
    {
     "name": "stdout",
     "output_type": "stream",
     "text": [
      "Transforming \n",
      "\n",
      "100 %\r"
     ]
    }
   ],
   "source": [
    "X_train = prepTrain.transform(X_train)"
   ]
  },
  {
   "cell_type": "code",
   "execution_count": 9,
   "metadata": {},
   "outputs": [],
   "source": [
    "valid_data= np.memmap( 'public_data/valid_data', dtype='float64', mode='w+',shape=(valid_lines,12288))\n",
    "reader = pd.read_table('public_data/perso_valid.data', sep=' ', chunksize=1000,dtype='uint8',header=None)\n",
    "i=0\n",
    "for chunk in reader:\n",
    "    chunk = prepValid.standardizing(chunk)\n",
    "    prepValid.partial_fit(chunk)\n",
    "    if(valid_lines-i < 1000) :\n",
    "        valid_data[i:] = chunk\n",
    "        break\n",
    "    else :\n",
    "        valid_data[i:i+1000]=chunk\n",
    "        i+=1000\n",
    "X_valid = np.memmap( 'public_data/valid_data', dtype='float64', mode='r',shape=(valid_lines,12288))\n",
    "if(os.path.exists('public_data/perso_valid.solution')) :\n",
    "    valid_solution= np.memmap( 'public_data/valid_solution', dtype='uint8', mode='w+',shape=(valid_lines,1))\n",
    "    reader = pd.read_table('public_data/perso_valid.solution', chunksize=1000,dtype='uint8',header=None)\n",
    "    i=0\n",
    "    for chunk in reader:\n",
    "        if(valid_lines-i<1000) : \n",
    "            valid_solution[i:] = chunk\n",
    "            break\n",
    "        else :\n",
    "            valid_solution[i:i+1000]=chunk\n",
    "            i+=1000\n",
    "    y_valid= np.memmap('public_data/valid_solution', dtype='uint8', mode='r', shape=(valid_lines,1))"
   ]
  },
  {
   "cell_type": "code",
   "execution_count": 10,
   "metadata": {},
   "outputs": [
    {
     "name": "stdout",
     "output_type": "stream",
     "text": [
      "Transforming \n",
      "\n",
      "100 %\r"
     ]
    }
   ],
   "source": [
    "X_valid = prepValid.transform(X_valid)"
   ]
  },
  {
   "cell_type": "code",
   "execution_count": 11,
   "metadata": {},
   "outputs": [],
   "source": [
    "test_data= np.memmap( 'public_data/test_data', dtype='float64', mode='w+',shape=(test_lines,12288))\n",
    "reader = pd.read_table('public_data/perso_test.data', sep=' ', chunksize=1000,dtype='uint8',header=None)\n",
    "i=0\n",
    "for chunk in reader:\n",
    "    chunk = prepTest.standardizing(chunk)\n",
    "    prepTest.partial_fit(chunk)\n",
    "    if(test_lines-i<1000) : \n",
    "        test_data[i:] = chunk\n",
    "        break\n",
    "    else :\n",
    "        test_data[i:i+1000]=chunk\n",
    "        i+=1000\n",
    "X_test = np.memmap( 'public_data/test_data', dtype='float64', mode='r',shape=(test_lines,12288))\n",
    "if(os.path.exists('public_data/perso_test.solution')) :\n",
    "    test_solution= np.memmap( 'public_data/test_solution', dtype='uint8', mode='w+',shape=(test_lines,1))\n",
    "    reader = pd.read_table('public_data/perso_test.solution', chunksize=1000,dtype='uint8',header=None)\n",
    "    i=0\n",
    "    for chunk in reader:\n",
    "        if(test_lines-i<1000) : \n",
    "            test_solution[i:] = chunk\n",
    "            break\n",
    "        else :\n",
    "            test_solution[i:i+1000]=chunk\n",
    "            i+=1000\n",
    "    y_test= np.memmap('public_data/test_solution', dtype='uint8', mode='r', shape=(test_lines,1))"
   ]
  },
  {
   "cell_type": "code",
   "execution_count": 12,
   "metadata": {},
   "outputs": [
    {
     "name": "stdout",
     "output_type": "stream",
     "text": [
      "Transforming \n",
      "\n",
      "100 %\r"
     ]
    }
   ],
   "source": [
    "X_test = prepTest.transform(X_test)"
   ]
  },
  {
   "cell_type": "code",
   "execution_count": 13,
   "metadata": {},
   "outputs": [
    {
     "data": {
      "text/plain": [
       "array([ 7.10121755e+01, -4.78935761e+01,  1.45043970e+01,  1.56731624e+01,\n",
       "       -8.98853417e+00,  9.48929764e+00, -6.92145875e+00,  9.62794615e+00,\n",
       "       -2.20312050e+01, -1.00919320e+01,  2.01780369e-01, -8.31331098e-01,\n",
       "       -6.03743182e+00, -2.44950539e+01,  1.82779930e+01, -4.36246217e+00,\n",
       "       -1.55848181e+00,  1.53888815e+01,  8.25220377e+00,  8.35008873e+00,\n",
       "       -1.62951679e+01,  5.54696889e+00, -2.09417200e+00, -4.14544222e+00,\n",
       "        8.05808766e+00,  3.04500719e+00,  3.71857088e+00,  7.75000427e+00,\n",
       "       -4.59259990e+00, -1.30142806e+00,  1.08080036e+01, -7.27083699e+00,\n",
       "       -4.40413189e+00, -4.25062929e+00,  7.28127432e+00, -1.49271786e+00,\n",
       "        2.25749343e+00, -2.15799771e+00, -1.00845809e+01, -2.09871484e+01,\n",
       "       -8.54418274e+00,  4.48586639e-01, -2.79109919e-01, -2.37714543e+00,\n",
       "        8.82517809e+00, -2.73154901e+00,  9.35936799e+00, -3.28827306e-01,\n",
       "       -6.93559233e+00, -3.01059165e+00,  1.36422472e+01, -2.47840229e+00,\n",
       "       -9.77295572e-01, -1.57196141e+01,  1.15890955e+01,  1.07152933e+01,\n",
       "       -2.47393093e+00,  7.68493043e+00, -1.03048995e+01, -4.06064618e+00,\n",
       "       -3.83722129e+00,  3.11676941e+00, -1.21097430e+01,  5.90511113e+00,\n",
       "       -4.71039042e+00,  4.12614703e+00, -2.74734715e+00,  5.69978542e+00,\n",
       "        1.21204265e-01,  9.27265057e+00,  1.72639979e+01,  2.24891406e+00,\n",
       "        6.54201660e+00, -9.06873911e+00, -4.23406778e+00, -4.89105877e+00,\n",
       "        4.96663410e+00,  1.25929448e-01, -7.80594247e-01, -2.62625317e+00,\n",
       "        1.69948879e+00,  8.00994837e+00,  1.46881566e+00, -1.56830511e+00,\n",
       "       -4.84731049e+00, -3.16346744e+00, -3.57524477e+00, -4.73926029e+00,\n",
       "       -1.35334066e+00,  6.81536151e+00, -5.04562640e+00, -1.03121799e+01,\n",
       "       -5.57743285e+00,  3.54795705e+00, -1.95747030e+00,  1.44040002e+00,\n",
       "        7.23743015e+00,  4.40368092e+00, -8.12681285e+00,  6.07176802e+00,\n",
       "        5.52918125e+00,  3.85627718e+00,  3.29581847e+00,  3.46148419e+00,\n",
       "       -9.37461646e+00,  4.49142463e+00,  6.69479422e+00, -1.15296482e+00,\n",
       "       -2.22747117e+00, -4.67356700e+00,  1.82806659e+00, -3.52477378e+00,\n",
       "        2.56275241e+00,  3.76252736e+00,  2.41793208e+00, -1.50095330e+00,\n",
       "       -4.62819682e+00,  3.45383846e-01,  3.48268279e+00,  6.09410585e+00,\n",
       "        6.22387488e+00,  6.30739380e+00,  6.50557442e-01,  8.12477263e+00,\n",
       "       -2.56252048e+00, -9.29685478e-01, -1.10893027e+01, -1.11362667e+01,\n",
       "       -5.66991206e+00,  1.29997946e+00, -9.24058395e+00, -3.62907459e+00,\n",
       "       -5.64003675e-01, -4.00646511e+00,  1.86681172e-01, -1.02227833e+00,\n",
       "        1.84535062e-01, -3.08557790e+00, -1.86523441e+00,  4.43775163e+00,\n",
       "       -1.21472897e+00,  1.15358922e+00, -1.61465612e+00, -2.83476180e+00,\n",
       "       -4.29571583e+00,  4.62101117e+00, -1.15721689e+00,  5.53727571e-02,\n",
       "        5.05783510e+00,  1.16632174e+00,  4.34030546e+00,  2.44954019e+00,\n",
       "        5.03592391e+00,  1.72671451e+00, -5.93858768e+00,  3.56082639e-01,\n",
       "       -1.10934437e+01, -7.13228316e+00,  3.06729706e+00,  1.93967923e+00,\n",
       "       -3.55819820e+00, -1.24863526e+00,  5.02296081e+00,  5.15439853e+00,\n",
       "        3.23444889e+00, -4.13058258e+00,  3.12067305e+00,  9.91302079e+00,\n",
       "       -1.13960252e+00, -8.31189888e+00, -4.19900139e+00, -3.12213808e+00,\n",
       "       -4.90535868e+00, -1.97970450e+00, -9.75724866e-01, -2.51577524e+00,\n",
       "        3.02805355e+00,  3.61828053e+00, -9.57837161e-01, -3.31377525e+00,\n",
       "        5.96825771e-01,  3.18988829e+00, -7.41956308e+00,  4.16982884e+00,\n",
       "       -4.46089158e+00, -5.79013941e+00, -1.39794204e+00, -3.13481413e+00,\n",
       "        2.08611576e+00, -2.43799043e+00, -3.63239531e+00,  1.67693420e+00,\n",
       "       -1.74733330e+00, -4.27302531e+00, -6.82813380e+00, -1.06207474e+00,\n",
       "       -5.96047303e+00, -4.71580530e-01,  1.80724889e+00, -2.63745946e+00,\n",
       "       -4.83135940e-01, -4.98468006e-01,  3.77702037e+00,  2.50227649e+00,\n",
       "        2.91390949e+00,  9.26903358e-01,  1.67382781e+00, -1.98718980e+00,\n",
       "        2.81602198e+00, -3.65283381e+00,  4.55854844e+00, -1.59030776e+00,\n",
       "        1.68021998e+00, -1.77596625e+00,  1.37576243e+00, -3.45231550e+00,\n",
       "       -5.01170494e+00,  2.53981777e+00,  1.83789289e+00,  3.34073969e+00,\n",
       "       -5.26456318e-02,  2.80078281e+00,  6.37905311e-01, -1.71075458e+00,\n",
       "       -2.14299776e+00,  4.26543017e+00, -1.72532980e+00,  2.73596261e+00,\n",
       "       -6.25529199e+00,  4.04825558e-02, -5.44094458e+00, -7.25741211e-01,\n",
       "        1.74452092e+00,  2.85704969e+00, -3.30771224e+00, -4.87100642e+00,\n",
       "       -1.45317926e+00,  2.57293428e+00, -1.52163866e+00,  5.59833734e+00,\n",
       "       -1.80462935e+00, -5.74041862e+00, -3.89000212e+00,  5.32978823e+00,\n",
       "        3.10323655e+00, -1.58043374e+00, -7.15325302e+00,  2.18622092e+00,\n",
       "        4.39476303e+00, -1.53481731e-01, -1.95124281e+00, -5.73360823e-01,\n",
       "       -1.83883178e+00, -1.70765569e+00, -5.31520990e+00,  5.58264858e-01,\n",
       "        2.66504971e-01, -3.36460306e+00, -2.08383103e+00,  6.29037760e+00,\n",
       "        4.90128442e-01, -3.38617794e-01,  6.97181103e-01, -1.82833750e+00,\n",
       "        5.98787258e+00, -4.74468504e+00,  1.54622231e+00, -2.80339882e+00,\n",
       "       -3.63396088e-01, -1.23061014e+00, -2.07020623e+00,  6.45281245e-01,\n",
       "        6.01020471e+00, -4.17191365e+00, -3.07533653e+00, -1.97619221e+00,\n",
       "        1.28862213e+00, -4.58338747e+00, -2.03472891e+00,  1.18914357e+00,\n",
       "        2.89164069e+00, -3.32028386e-02, -1.07099160e+00,  1.45685378e+00,\n",
       "        3.77902799e+00, -3.30315114e+00, -5.55086582e+00, -5.55154859e+00,\n",
       "       -5.14633241e+00, -2.29463068e-01,  2.07837361e+00, -1.54199052e+00,\n",
       "       -3.63548504e+00,  2.99925326e+00, -7.94664735e+00, -3.13528079e+00,\n",
       "       -3.26528022e+00, -1.67682565e+00,  5.43663361e-01, -5.44958681e+00,\n",
       "        2.01296408e+00,  5.43742392e+00,  3.33370417e+00, -5.94567567e-01,\n",
       "        1.74802702e+00,  8.10733812e-01, -4.50928333e+00, -2.45745536e+00,\n",
       "        2.34482542e+00,  6.68699079e-01, -1.59834378e+00, -3.39233228e+00,\n",
       "       -8.13164408e-02, -3.17983721e+00,  1.91944196e+00,  9.74063051e-01,\n",
       "        6.97491330e-03, -1.60286979e+00,  6.99908324e+00,  5.94885724e-01,\n",
       "        4.84333651e+00, -1.00145391e+00, -7.23755363e+00,  6.50433284e-01,\n",
       "       -4.52431217e+00,  8.74525741e-01,  5.23611581e-01,  4.70274507e+00,\n",
       "       -1.02496857e+00,  5.95574021e+00, -2.41244659e+00,  1.97254344e+00,\n",
       "       -6.52177510e+00,  1.09269618e-01,  1.44573007e+00,  6.15609863e-02,\n",
       "        1.48011883e+00, -5.15073139e-01,  2.33502933e+00, -1.92029778e+00,\n",
       "        5.28503562e-01,  1.18028543e+00, -1.08556089e+00,  5.05690385e+00,\n",
       "        5.69262816e+00,  4.79582559e+00, -4.32753345e+00,  2.46033423e-01,\n",
       "        2.46281009e+00,  1.07458894e+00, -7.27249715e+00,  9.06603243e-01,\n",
       "        1.37494707e+00,  1.38552942e+00, -2.98776267e+00, -1.27385769e+00,\n",
       "        1.03234515e+00, -3.12312968e-01, -1.79257208e+00, -9.00373787e-01,\n",
       "       -1.74961190e+00, -1.63491688e+00, -2.52057830e+00, -1.90044183e+00,\n",
       "        3.92047474e+00,  1.69273424e+00, -4.72187881e+00, -5.47624602e+00,\n",
       "       -1.64915805e+00, -5.47174607e+00, -5.18503742e+00, -2.28369067e-01,\n",
       "        7.96638738e-01,  2.41523237e+00, -2.76278504e+00,  9.82558493e-01,\n",
       "       -2.30354367e+00,  3.35383348e+00, -3.03649889e-01,  1.37490927e+00,\n",
       "       -9.02796851e-01,  1.98544570e+00,  3.95025052e+00, -4.78322312e+00,\n",
       "       -7.61802620e-01, -7.52138226e-01,  2.14767279e+00,  2.19338284e+00,\n",
       "        4.16326802e-02,  1.65317782e-01, -1.06895139e+00,  1.70197066e-01,\n",
       "        1.08779688e+00,  2.82113647e+00, -3.44616723e+00, -4.02614533e+00,\n",
       "        3.83485326e+00, -3.14794593e+00,  4.39800022e-01, -6.47392628e+00])"
      ]
     },
     "execution_count": 13,
     "metadata": {},
     "output_type": "execute_result"
    }
   ],
   "source": [
    "X_train[0]"
   ]
  },
  {
   "cell_type": "markdown",
   "metadata": {},
   "source": [
    "<div style=\"background:#FFFFAA\">\n",
    "<h1>Step 2: Building a predictive model</h1>\n",
    "</div>"
   ]
  },
  {
   "cell_type": "markdown",
   "metadata": {},
   "source": [
    "<div style=\"background:#FFFFAA\">\n",
    "    <h2>Training a predictive model</h2>\n",
    "    <p>\n",
    "We provide an example of predictive model (for classification or regression) in the `sample_code_submission/` directory. It is a quite stupid model: it makes constant predictions. Replace it with your own model.\n",
    "    </div>"
   ]
  },
  {
   "cell_type": "code",
   "execution_count": 14,
   "metadata": {
    "scrolled": false
   },
   "outputs": [
    {
     "name": "stderr",
     "output_type": "stream",
     "text": [
      "C:\\Users\\mlans\\Anaconda3\\lib\\site-packages\\ipykernel_launcher.py:1: DeprecationWarning: numpy.core.umath_tests is an internal NumPy module and should not be imported. It will be removed in a future NumPy release.\n",
      "  \"\"\"Entry point for launching an IPython kernel.\n",
      "Using TensorFlow backend.\n"
     ]
    }
   ],
   "source": [
    "from numpy.core.umath_tests import inner1d\n",
    "from data_io import write\n",
    "from model import model"
   ]
  },
  {
   "cell_type": "markdown",
   "metadata": {},
   "source": [
    "<div style=\"background:#FFFFAA\">\n",
    "an instance of the model (run the constructor) and attempt to reload a previously saved version from `sample_code_submission/`:\n",
    "    \n",
    "</div>"
   ]
  },
  {
   "cell_type": "code",
   "execution_count": 15,
   "metadata": {
    "scrolled": true
   },
   "outputs": [
    {
     "name": "stdout",
     "output_type": "stream",
     "text": [
      "WARNING:tensorflow:From C:\\Users\\mlans\\Anaconda3\\lib\\site-packages\\tensorflow\\python\\framework\\op_def_library.py:263: colocate_with (from tensorflow.python.framework.ops) is deprecated and will be removed in a future version.\n",
      "Instructions for updating:\n",
      "Colocations handled automatically by placer.\n"
     ]
    }
   ],
   "source": [
    "M = model()\n",
    "trained_model_name = model_dir + data_name\n",
    "# Uncomment the next line to re-load an already trained model\n",
    "#M = M.load(trained_model_name)  "
   ]
  },
  {
   "cell_type": "markdown",
   "metadata": {},
   "source": [
    "<div style=\"background:#FFFFAA\">\n",
    "    Train the model (unless you reloaded a trained model) and make predictions. \n",
    "</div>"
   ]
  },
  {
   "cell_type": "code",
   "execution_count": 16,
   "metadata": {},
   "outputs": [
    {
     "ename": "ValueError",
     "evalue": "Error when checking input: expected dense_1_input to have shape (800,) but got array with shape (400,)",
     "output_type": "error",
     "traceback": [
      "\u001b[1;31m---------------------------------------------------------------------------\u001b[0m",
      "\u001b[1;31mValueError\u001b[0m                                Traceback (most recent call last)",
      "\u001b[1;32m<ipython-input-16-c71a4afb71e5>\u001b[0m in \u001b[0;36m<module>\u001b[1;34m\u001b[0m\n\u001b[1;32m----> 1\u001b[1;33m \u001b[0mM\u001b[0m\u001b[1;33m.\u001b[0m\u001b[0mfit\u001b[0m\u001b[1;33m(\u001b[0m\u001b[0mX_train\u001b[0m\u001b[1;33m,\u001b[0m \u001b[0my_train\u001b[0m\u001b[1;33m)\u001b[0m\u001b[1;33m\u001b[0m\u001b[1;33m\u001b[0m\u001b[0m\n\u001b[0m",
      "\u001b[1;32m~\\Documents\\L2\\Mini-Projet\\Semaine 7\\starting_kit_c2_final_base2\\sample_code_submission\\model.py\u001b[0m in \u001b[0;36mfit\u001b[1;34m(self, X, y)\u001b[0m\n\u001b[0;32m     40\u001b[0m         \u001b[0mun\u001b[0m \u001b[0mcourbe\u001b[0m \u001b[0msur\u001b[0m \u001b[0mla\u001b[0m \u001b[0mvaleur\u001b[0m \u001b[0mAccurancy\u001b[0m \u001b[0met\u001b[0m \u001b[0ml\u001b[0m\u001b[1;34m'autre sur le Loss en fonction des époques'\u001b[0m\u001b[1;34m''\u001b[0m\u001b[1;33m\u001b[0m\u001b[1;33m\u001b[0m\u001b[0m\n\u001b[0;32m     41\u001b[0m     \u001b[1;32mdef\u001b[0m \u001b[0mfit\u001b[0m\u001b[1;33m(\u001b[0m\u001b[0mself\u001b[0m\u001b[1;33m,\u001b[0m \u001b[0mX\u001b[0m\u001b[1;33m,\u001b[0m \u001b[0my\u001b[0m\u001b[1;33m)\u001b[0m\u001b[1;33m:\u001b[0m\u001b[1;33m\u001b[0m\u001b[1;33m\u001b[0m\u001b[0m\n\u001b[1;32m---> 42\u001b[1;33m         \u001b[0mhistory\u001b[0m \u001b[1;33m=\u001b[0m \u001b[0mself\u001b[0m\u001b[1;33m.\u001b[0m\u001b[0mmodel\u001b[0m\u001b[1;33m.\u001b[0m\u001b[0mfit\u001b[0m\u001b[1;33m(\u001b[0m\u001b[0mX\u001b[0m\u001b[1;33m,\u001b[0m \u001b[0my\u001b[0m\u001b[1;33m,\u001b[0m\u001b[0mepochs\u001b[0m\u001b[1;33m=\u001b[0m\u001b[1;36m30\u001b[0m\u001b[1;33m,\u001b[0m \u001b[0mvalidation_split\u001b[0m\u001b[1;33m=\u001b[0m\u001b[1;36m0.2\u001b[0m\u001b[1;33m,\u001b[0m\u001b[0mbatch_size\u001b[0m\u001b[1;33m=\u001b[0m\u001b[1;36m25\u001b[0m\u001b[1;33m)\u001b[0m\u001b[1;33m\u001b[0m\u001b[1;33m\u001b[0m\u001b[0m\n\u001b[0m\u001b[0;32m     43\u001b[0m         \u001b[0mprint\u001b[0m\u001b[1;33m(\u001b[0m\u001b[0mhistory\u001b[0m\u001b[1;33m.\u001b[0m\u001b[0mhistory\u001b[0m\u001b[1;33m.\u001b[0m\u001b[0mkeys\u001b[0m\u001b[1;33m(\u001b[0m\u001b[1;33m)\u001b[0m\u001b[1;33m)\u001b[0m\u001b[1;33m\u001b[0m\u001b[1;33m\u001b[0m\u001b[0m\n\u001b[0;32m     44\u001b[0m         \u001b[0mplt\u001b[0m\u001b[1;33m.\u001b[0m\u001b[0mplot\u001b[0m\u001b[1;33m(\u001b[0m\u001b[0mhistory\u001b[0m\u001b[1;33m.\u001b[0m\u001b[0mhistory\u001b[0m\u001b[1;33m[\u001b[0m\u001b[1;34m'acc'\u001b[0m\u001b[1;33m]\u001b[0m\u001b[1;33m)\u001b[0m\u001b[1;33m\u001b[0m\u001b[1;33m\u001b[0m\u001b[0m\n",
      "\u001b[1;32m~\\Anaconda3\\lib\\site-packages\\keras\\engine\\training.py\u001b[0m in \u001b[0;36mfit\u001b[1;34m(self, x, y, batch_size, epochs, verbose, callbacks, validation_split, validation_data, shuffle, class_weight, sample_weight, initial_epoch, steps_per_epoch, validation_steps, **kwargs)\u001b[0m\n\u001b[0;32m    950\u001b[0m             \u001b[0msample_weight\u001b[0m\u001b[1;33m=\u001b[0m\u001b[0msample_weight\u001b[0m\u001b[1;33m,\u001b[0m\u001b[1;33m\u001b[0m\u001b[1;33m\u001b[0m\u001b[0m\n\u001b[0;32m    951\u001b[0m             \u001b[0mclass_weight\u001b[0m\u001b[1;33m=\u001b[0m\u001b[0mclass_weight\u001b[0m\u001b[1;33m,\u001b[0m\u001b[1;33m\u001b[0m\u001b[1;33m\u001b[0m\u001b[0m\n\u001b[1;32m--> 952\u001b[1;33m             batch_size=batch_size)\n\u001b[0m\u001b[0;32m    953\u001b[0m         \u001b[1;31m# Prepare validation data.\u001b[0m\u001b[1;33m\u001b[0m\u001b[1;33m\u001b[0m\u001b[1;33m\u001b[0m\u001b[0m\n\u001b[0;32m    954\u001b[0m         \u001b[0mdo_validation\u001b[0m \u001b[1;33m=\u001b[0m \u001b[1;32mFalse\u001b[0m\u001b[1;33m\u001b[0m\u001b[1;33m\u001b[0m\u001b[0m\n",
      "\u001b[1;32m~\\Anaconda3\\lib\\site-packages\\keras\\engine\\training.py\u001b[0m in \u001b[0;36m_standardize_user_data\u001b[1;34m(self, x, y, sample_weight, class_weight, check_array_lengths, batch_size)\u001b[0m\n\u001b[0;32m    749\u001b[0m             \u001b[0mfeed_input_shapes\u001b[0m\u001b[1;33m,\u001b[0m\u001b[1;33m\u001b[0m\u001b[1;33m\u001b[0m\u001b[0m\n\u001b[0;32m    750\u001b[0m             \u001b[0mcheck_batch_axis\u001b[0m\u001b[1;33m=\u001b[0m\u001b[1;32mFalse\u001b[0m\u001b[1;33m,\u001b[0m  \u001b[1;31m# Don't enforce the batch size.\u001b[0m\u001b[1;33m\u001b[0m\u001b[1;33m\u001b[0m\u001b[0m\n\u001b[1;32m--> 751\u001b[1;33m             exception_prefix='input')\n\u001b[0m\u001b[0;32m    752\u001b[0m \u001b[1;33m\u001b[0m\u001b[0m\n\u001b[0;32m    753\u001b[0m         \u001b[1;32mif\u001b[0m \u001b[0my\u001b[0m \u001b[1;32mis\u001b[0m \u001b[1;32mnot\u001b[0m \u001b[1;32mNone\u001b[0m\u001b[1;33m:\u001b[0m\u001b[1;33m\u001b[0m\u001b[1;33m\u001b[0m\u001b[0m\n",
      "\u001b[1;32m~\\Anaconda3\\lib\\site-packages\\keras\\engine\\training_utils.py\u001b[0m in \u001b[0;36mstandardize_input_data\u001b[1;34m(data, names, shapes, check_batch_axis, exception_prefix)\u001b[0m\n\u001b[0;32m    136\u001b[0m                             \u001b[1;34m': expected '\u001b[0m \u001b[1;33m+\u001b[0m \u001b[0mnames\u001b[0m\u001b[1;33m[\u001b[0m\u001b[0mi\u001b[0m\u001b[1;33m]\u001b[0m \u001b[1;33m+\u001b[0m \u001b[1;34m' to have shape '\u001b[0m \u001b[1;33m+\u001b[0m\u001b[1;33m\u001b[0m\u001b[1;33m\u001b[0m\u001b[0m\n\u001b[0;32m    137\u001b[0m                             \u001b[0mstr\u001b[0m\u001b[1;33m(\u001b[0m\u001b[0mshape\u001b[0m\u001b[1;33m)\u001b[0m \u001b[1;33m+\u001b[0m \u001b[1;34m' but got array with shape '\u001b[0m \u001b[1;33m+\u001b[0m\u001b[1;33m\u001b[0m\u001b[1;33m\u001b[0m\u001b[0m\n\u001b[1;32m--> 138\u001b[1;33m                             str(data_shape))\n\u001b[0m\u001b[0;32m    139\u001b[0m     \u001b[1;32mreturn\u001b[0m \u001b[0mdata\u001b[0m\u001b[1;33m\u001b[0m\u001b[1;33m\u001b[0m\u001b[0m\n\u001b[0;32m    140\u001b[0m \u001b[1;33m\u001b[0m\u001b[0m\n",
      "\u001b[1;31mValueError\u001b[0m: Error when checking input: expected dense_1_input to have shape (800,) but got array with shape (400,)"
     ]
    }
   ],
   "source": [
    "M.fit(X_train, y_train)"
   ]
  },
  {
   "cell_type": "code",
   "execution_count": null,
   "metadata": {
    "scrolled": true
   },
   "outputs": [],
   "source": [
    "Y_hat_train = M.predict(X_train)\n",
    "Y_hat_valid = M.predict(X_valid)\n",
    "Y_hat_test = M.predict(X_test)"
   ]
  },
  {
   "cell_type": "markdown",
   "metadata": {},
   "source": [
    "<div style=\"background:#FFFFAA\">\n",
    "    <b> Save the trained model </b> (will be ready to reload next time around) and save the prediction results. IMPORTANT: if you save the trained model, it will be bundled with your sample code submission. Therefore your model will NOT be retrained on the challenge platform. Remove the pickle from the submission if you want the model to be retrained on the platform.\n",
    "</div>"
   ]
  },
  {
   "cell_type": "code",
   "execution_count": null,
   "metadata": {
    "scrolled": false
   },
   "outputs": [],
   "source": [
    "result_name = result_dir + data_name\n",
    "\n",
    "\n",
    "from data_io import write\n",
    "write(result_name + '_train.predict', Y_hat_train)\n",
    "write(result_name + '_valid.predict', Y_hat_valid)\n",
    "write(result_name + '_test.predict', Y_hat_test)\n",
    "!ls $result_name*\n"
   ]
  },
  {
   "cell_type": "markdown",
   "metadata": {},
   "source": [
    "<div style=\"background:#FFFFAA\">\n",
    "    <h2>Scoring the results</h2>\n",
    "    <h3>Load the challenge metric</h3>\n",
    "    <p>\n",
    "<b>The metric chosen for your challenge</b> is identified in the \"metric.txt\" file found in the `scoring_function/` directory. The function \"get_metric\" searches first for a metric having that name in my_metric.py, then in libscores.py, then in sklearn.metric.\n",
    "    </div>"
   ]
  },
  {
   "cell_type": "markdown",
   "metadata": {},
   "source": [
    "#### Metric : AUC_metric \n",
    "ROC curves are typically used in binary classification to study the output of a classifier"
   ]
  },
  {
   "cell_type": "code",
   "execution_count": null,
   "metadata": {},
   "outputs": [],
   "source": [
    "from libscores import get_metric\n",
    "metric_name, scoring_function = get_metric()\n",
    "print('Using scoring metric:', metric_name)"
   ]
  },
  {
   "cell_type": "markdown",
   "metadata": {},
   "source": [
    "<div style=\"background:#FFFFAA\">\n",
    "    <h3> Training performance </h3>\n",
    "    <p>\n",
    "The participants normally posess target values (labels) only for training examples (except for the sample data). We compute with the `example` metric the training score, which should be zero for perfect predictions.\n",
    "        </div>"
   ]
  },
  {
   "cell_type": "markdown",
   "metadata": {},
   "source": [
    "You can add here other scores and result visualization."
   ]
  },
  {
   "cell_type": "code",
   "execution_count": null,
   "metadata": {},
   "outputs": [],
   "source": [
    "from sklearn import metrics\n",
    "from sklearn.metrics import confusion_matrix\n",
    "import seaborn as sn\n",
    "import matplotlib.pyplot as plt\n",
    "n_classes=2\n",
    "def fpr_tpr(solution, prediction):\n",
    "    for i in range(n_classes):\n",
    "        fpr, tpr, _ = metrics.roc_curve(solution, prediction)\n",
    "        roc_auc = metrics.auc(fpr, tpr)\n",
    "    return (fpr,tpr)\n",
    "\n",
    "def p2c(prediction,threshold=0.5) : \n",
    "    c = []\n",
    "    for ele in prediction : \n",
    "        if(ele>=0.5) : \n",
    "            c.append(1)\n",
    "        else : \n",
    "            c.append(0)\n",
    "    return np.array(c)\n",
    "def plot_cm_matrix(solution,prediction,title) :\n",
    "    prediction = p2c(prediction)\n",
    "    cm = confusion_matrix(solution, prediction)\n",
    "    df_cm = pd.DataFrame(cm, index = [i for i in \"01\"],columns = [i for i in \"01\"])\n",
    "    plt.figure(figsize = (5,3))\n",
    "    sn.heatmap(df_cm, annot=True)\n",
    "    plt.title(title)\n",
    "def plot_ROC(fpr,tpr,title) :\n",
    "    plt.figure()\n",
    "    lw = 2\n",
    "    plt.plot(fpr, tpr, color='darkorange',lw=lw)\n",
    "    plt.plot([0, 1], [0, 1], color='navy', lw=lw, linestyle='--')\n",
    "    plt.xlim([0.0, 1.0])\n",
    "    plt.ylim([0.0, 1.05])\n",
    "    plt.xlabel('False Positive Rate')\n",
    "    plt.ylabel('True Positive Rate')\n",
    "    plt.title(title)\n",
    "    plt.show()\n",
    "\n",
    "fpr_train,tpr_train = fpr_tpr(y_train, Y_hat_train)\n",
    "print('Training score for the', metric_name, 'metric = %5.4f' % scoring_function(y_train, Y_hat_train))\n",
    "print('Ideal score for the', metric_name, 'metric = %5.4f' % scoring_function(y_train, y_train))\n",
    "plot_cm_matrix(y_train,Y_hat_train,\"Confusion matrix for train data\") \n",
    "plot_ROC(fpr_train,tpr_train,\"ROC curve for train data\")\n",
    "\n",
    "if(os.path.exists('public_data/perso_test.solution') and os.path.exists('public_data/perso_valid.solution')) :\n",
    "    fpr_test,tpr_test = fpr_tpr(y_test, Y_hat_test)\n",
    "    fpr_valid,tpr_valid = fpr_tpr(y_valid, Y_hat_valid)\n",
    "    print('Test score for the', metric_name, 'metric = %5.4f' % scoring_function(y_test, Y_hat_test))\n",
    "    print('Valid score for the', metric_name, 'metric = %5.4f' % scoring_function(y_valid, Y_hat_valid))\n",
    "    plot_cm_matrix(y_test,Y_hat_test,\"Confusion matrix for test data\") \n",
    "    plot_ROC(fpr_test,tpr_test,\"ROC curve for test data\")\n",
    "    plot_cm_matrix(y_valid,Y_hat_valid,\"Confusion matrix for valid data\") \n",
    "    plot_ROC(fpr_valid,tpr_valid,\"ROC curve for valid data\")"
   ]
  },
  {
   "cell_type": "markdown",
   "metadata": {},
   "source": [
    "<div style=\"background:#FFFFAA\">\n",
    "    <h3>Cross-validation performance</h3>\n",
    "    <p>\n",
    "The participants do not have access to the labels Y_valid and Y_test to self-assess their validation and test performances. But training performance is not a good prediction of validation or test performance. Using cross-validation, the training data is split into multiple training/test folds, which allows participants to self-assess their model during development. The average CV result and 95% confidence interval is displayed.\n",
    "   </div>"
   ]
  },
  {
   "cell_type": "code",
   "execution_count": null,
   "metadata": {},
   "outputs": [],
   "source": [
    "from sklearn.metrics import make_scorer\n",
    "from sklearn.model_selection import cross_val_score\n",
    "scores = cross_val_score(M, X_train, y_train, cv=2, scoring=make_scorer(scoring_function))\n",
    "print('\\nCV score (95 perc. CI): %0.2f (+/- %0.2f)' % (scores.mean(), scores.std() * 2))"
   ]
  },
  {
   "cell_type": "markdown",
   "metadata": {},
   "source": [
    "<div style=\"background:#FFFFAA\">\n",
    "<h1> Step 3: Making a submission </h1> \n",
    "\n"
   ]
  },
  {
   "cell_type": "code",
   "execution_count": null,
   "metadata": {},
   "outputs": [],
   "source": [
    "scoring_output_dir = '../scoring_output_dir'\n",
    "!python $score_dir/score.py $data_dir $result_dir $scoring_output_dir"
   ]
  },
  {
   "cell_type": "markdown",
   "metadata": {
    "collapsed": true
   },
   "source": [
    "<div style=\"background:#FFFFAA\">\n",
    "    <h1> Preparing the submission </h1>\n",
    "\n",
    "Zip the contents of `sample_code_submission/` (without the directory), or download the challenge public_data and run the command in the previous cell, after replacing sample_data by public_data.\n",
    "Then zip the contents of `sample_result_submission/` (without the directory).\n",
    "<b><span style=\"color:red\">Do NOT zip the data with your submissions</span></b>."
   ]
  },
  {
   "cell_type": "code",
   "execution_count": null,
   "metadata": {},
   "outputs": [],
   "source": [
    "import datetime \n",
    "from data_io import zipdir\n",
    "the_date = datetime.datetime.now().strftime(\"%y-%m-%d-%H-%M\")\n",
    "sample_code_submission = '../sample_code_submission_' + the_date + '.zip'\n",
    "sample_result_submission = '../sample_result_submission_' + the_date + '.zip'\n",
    "zipdir(sample_code_submission, model_dir)\n",
    "zipdir(sample_result_submission, result_dir)\n",
    "print(\"Submit one of these files:\\n\" + sample_code_submission + \"\\n\" + sample_result_submission)"
   ]
  },
  {
   "cell_type": "code",
   "execution_count": null,
   "metadata": {},
   "outputs": [],
   "source": []
  }
 ],
 "metadata": {
  "kernelspec": {
   "display_name": "Python 3",
   "language": "python",
   "name": "python3"
  },
  "language_info": {
   "codemirror_mode": {
    "name": "ipython",
    "version": 3
   },
   "file_extension": ".py",
   "mimetype": "text/x-python",
   "name": "python",
   "nbconvert_exporter": "python",
   "pygments_lexer": "ipython3",
   "version": "3.8.3"
  }
 },
 "nbformat": 4,
 "nbformat_minor": 1
}
